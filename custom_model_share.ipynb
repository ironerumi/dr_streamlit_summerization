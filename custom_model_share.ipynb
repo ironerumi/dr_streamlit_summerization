{
	"cells": [
		{
			"id": "639c7dae9d435360e13757d4",
			"cell_type": "code",
			"source": "%%writefile requirements.txt\nsacremoses==0.0.53\nsentencepiece==0.1.97\ntransformers==4.25.1\nprotobuf~=3.20\ntorch==1.13.0",
			"metadata": {
				"name": "prepare package list",
				"collapsed": false,
				"scrolled": false,
				"datarobot": {
					"language": "python"
				},
				"hide_code": false,
				"hide_results": false,
				"disable_run": false,
				"chart_settings": null,
				"dataframe_view_options": null
			},
			"outputs": [
				{
					"output_type": "execute_result",
					"execution_count": 1,
					"data": {
						"text/plain": "Writing requirements.txt\n"
					},
					"metadata": {}
				}
			],
			"execution_count": 1
		},
		{
			"id": "639c7dae9d435360e13757d5",
			"cell_type": "code",
			"source": "!pip install -r requirements.txt -q",
			"metadata": {
				"name": "install necessary package",
				"collapsed": false,
				"scrolled": false,
				"datarobot": {
					"language": "python"
				},
				"hide_code": false,
				"hide_results": false,
				"disable_run": false,
				"chart_settings": null,
				"dataframe_view_options": null
			},
			"outputs": [],
			"execution_count": null
		},
		{
			"id": "639c7dae9d435360e13757d6",
			"cell_type": "code",
			"source": "import os\nimport json\nimport torch\nimport requests\nimport warnings\nimport numpy as np\n\nfrom transformers import pipeline, AutoTokenizer, AutoModelForSeq2SeqLM\n\nwarnings.simplefilter('ignore',UserWarning)\ntorch.__version__",
			"metadata": {
				"name": "import",
				"collapsed": false,
				"scrolled": false,
				"datarobot": {
					"language": "python"
				},
				"hide_code": false,
				"hide_results": false,
				"disable_run": false,
				"chart_settings": null,
				"dataframe_view_options": null
			},
			"outputs": [
				{
					"output_type": "execute_result",
					"execution_count": 3,
					"data": {
						"text/plain": "'1.13.0+cu117'"
					},
					"metadata": {}
				}
			],
			"execution_count": 3
		},
		{
			"id": "639c7dae9d435360e13757d7",
			"cell_type": "code",
			"source": "def try_model(model_name, text):\n    n_min = int(np.median([len(t.split()) for t in text])// 4)\n    n_max = int(np.median([len(t.split()) for t in text])// 1.5)\n    tokenizer = AutoTokenizer.from_pretrained(model_name)\n    model = AutoModelForSeq2SeqLM.from_pretrained(model_name)\n    seq2seq = pipeline(\"summarization\", model=model,tokenizer=tokenizer)\n    return seq2seq(text,max_length=n_max, min_length=n_min)",
			"metadata": {
				"collapsed": false,
				"scrolled": false,
				"datarobot": {
					"language": "python"
				},
				"hide_code": false,
				"hide_results": false,
				"disable_run": false,
				"chart_settings": null,
				"dataframe_view_options": null
			},
			"outputs": [],
			"execution_count": null
		},
		{
			"id": "639c7dae9d435360e13757d8",
			"cell_type": "code",
			"source": "text = \"\"\"\nThe Inflation Reduction Act lowers prescription drug costs, health care costs, and energy costs. It's the most aggressive action on tackling the climate crisis in American history, which will lift up American workers and create good-paying, union jobs across the country. It'll lower the deficit and ask the ultra-wealthy and corporations to pay their fair share. And no one making under $400,000 per year will pay a penny more in taxes.\n\"\"\"\ntext_split = [s for s in text.splitlines() if s]\ntry_model(\"JulesBelveze/t5-small-headline-generator\",text_split)",
			"metadata": {
				"name": "try once",
				"collapsed": false,
				"scrolled": false,
				"datarobot": {
					"language": "python"
				},
				"hide_code": false,
				"hide_results": false,
				"disable_run": false,
				"chart_settings": null,
				"dataframe_view_options": null
			},
			"outputs": [
				{
					"output_type": "execute_result",
					"execution_count": 6,
					"data": {
						"text/plain": "[{'summary_text': 'The Inflation Reduction Act Lowers Drug Costs, Health Care Costs'}]"
					},
					"metadata": {}
				}
			],
			"execution_count": 6
		},
		{
			"id": "639c7dae9d435360e13757da",
			"cell_type": "code",
			"source": "!git clone https://github.com/datarobot/datarobot-user-models.git",
			"metadata": {
				"name": "get base environment setup",
				"collapsed": false,
				"scrolled": false,
				"datarobot": {
					"language": "python"
				},
				"hide_code": false,
				"hide_results": false,
				"disable_run": false,
				"chart_settings": null,
				"dataframe_view_options": null
			},
			"outputs": [
				{
					"output_type": "execute_result",
					"execution_count": 7,
					"data": {
						"text/plain": "Cloning into 'datarobot-user-models'...\r\n"
					},
					"metadata": {}
				},
				{
					"output_type": "execute_result",
					"execution_count": 7,
					"data": {
						"text/plain": "remote: Enumerating objects: 13674, done.\u001b[K\r\nremote: Counting objects:   0% (1/608)\u001b[K\rremote: Counting objects:   1% (7/608)\u001b[K\rremote: Counting objects:   2% (13/608)\u001b[K\rremote: Counting objects:   3% (19/608)\u001b[K\rremote: Counting objects:   4% (25/608)\u001b[K\rremote: Counting objects:   5% (31/608)\u001b[K\rremote: Counting objects:   6% (37/608)\u001b[K\rremote: Counting objects:   7% (43/608)\u001b[K\rremote: Counting objects:   8% (49/608)\u001b[K\rremote: Counting objects:   9% (55/608)\u001b[K\rremote: Counting objects:  10% (61/608)\u001b[K\rremote: Counting objects:  11% (67/608)\u001b[K\rremote: Counting objects:  12% (73/608)\u001b[K\rremote: Counting objects:  13% (80/608)\u001b[K\rremote: Counting objects:  14% (86/608)\u001b[K\rremote: Counting objects:  15% (92/608)\u001b[K\rremote: Counting objects:  16% (98/608)\u001b[K\rremote: Counting objects:  17% (104/608)\u001b[K\rremote: Counting objects:  18% (110/608)\u001b[K\rremote: Counting objects:  19% (116/608)\u001b[K\rremote: Counting objects:  20% (122/608)\u001b[K\rremote: Counting objects:  21% (128/608)\u001b[K\rremote: Counting objects:  22% (134/608)\u001b[K\rremote: Counting objects:  23% (140/608)\u001b[K\rremote: Counting objects:  24% (146/608)\u001b[K\rremote: Counting objects:  25% (152/608)\u001b[K\rremote: Counting objects:  26% (159/608)\u001b[K\rremote: Counting objects:  27% (165/608)\u001b[K\rremote: Counting objects:  28% (171/608)\u001b[K\rremote: Counting objects:  29% (177/608)\u001b[K\rremote: Counting objects:  30% (183/608)\u001b[K\rremote: Counting objects:  31% (189/608)\u001b[K\rremote: Counting objects:  32% (195/608)\u001b[K\rremote: Counting objects:  33% (201/608)\u001b[K\rremote: Counting objects:  34% (207/608)\u001b[K\rremote: Counting objects:  35% (213/608)\u001b[K\rremote: Counting objects:  36% (219/608)\u001b[K\rremote: Counting objects:  37% (225/608)\u001b[K\rremote: Counting objects:  38% (232/608)\u001b[K\rremote: Counting objects:  39% (238/608)\u001b[K\rremote: Counting objects:  40% (244/608)\u001b[K\rremote: Counting objects:  41% (250/608)\u001b[K\rremote: Counting objects:  42% (256/608)\u001b[K\rremote: Counting objects:  43% (262/608)\u001b[K\rremote: Counting objects:  44% (268/608)\u001b[K\rremote: Counting objects:  45% (274/608)\u001b[K\rremote: Counting objects:  46% (280/608)\u001b[K\rremote: Counting objects:  47% (286/608)\u001b[K\rremote: Counting objects:  48% (292/608)\u001b[K\rremote: Counting objects:  49% (298/608)\u001b[K\rremote: Counting objects:  50% (304/608)\u001b[K\rremote: Counting objects:  51% (311/608)\u001b[K\rremote: Counting objects:  52% (317/608)\u001b[K\rremote: Counting objects:  53% (323/608)\u001b[K\rremote: Counting objects:  54% (329/608)\u001b[K\rremote: Counting objects:  55% (335/608)\u001b[K\rremote: Counting objects:  56% (341/608)\u001b[K\rremote: Counting objects:  57% (347/608)\u001b[K\rremote: Counting objects:  58% (353/608)\u001b[K\rremote: Counting objects:  59% (359/608)\u001b[K\rremote: Counting objects:  60% (365/608)\u001b[K\rremote: Counting objects:  61% (371/608)\u001b[K\rremote: Counting objects:  62% (377/608)\u001b[K\rremote: Counting objects:  63% (384/608)\u001b[K\rremote: Counting objects:  64% (390/608)\u001b[K\rremote: Counting objects:  65% (396/608)\u001b[K\rremote: Counting objects:  66% (402/608)\u001b[K\rremote: Counting objects:  67% (408/608)\u001b[K\rremote: Counting objects:  68% (414/608)\u001b[K\rremote: Counting objects:  69% (420/608)\u001b[K\rremote: Counting objects:  70% (426/608)\u001b[K\rremote: Counting objects:  71% (432/608)\u001b[K\rremote: Counting objects:  72% (438/608)\u001b[K\rremote: Counting objects:  73% (444/608)\u001b[K\rremote: Counting objects:  74% (450/608)\u001b[K\rremote: Counting objects:  75% (456/608)\u001b[K\rremote: Counting objects:  76% (463/608)\u001b[K\rremote: Counting objects:  77% (469/608)\u001b[K\rremote: Counting objects:  78% (475/608)\u001b[K\rremote: Counting objects:  79% (481/608)\u001b[K\rremote: Counting objects:  80% (487/608)\u001b[K\rremote: Counting objects:  81% (493/608)\u001b[K\rremote: Counting objects:  82% (499/608)\u001b[K\rremote: Counting objects:  83% (505/608)\u001b[K\rremote: Counting objects:  84% (511/608)\u001b[K\rremote: Counting objects:  85% (517/608)\u001b[K\rremote: Counting objects:  86% (523/608)\u001b[K\rremote: Counting objects:  87% (529/608)\u001b[K\rremote: Counting objects:  88% (536/608)\u001b[K\rremote: Counting objects:  89% (542/608)\u001b[K\rremote: Counting objects:  90% (548/608)\u001b[K\rremote: Counting objects:  91% (554/608)\u001b[K\rremote: Counting objects:  92% (560/608)\u001b[K\rremote: Counting objects:  93% (566/608)\u001b[K\rremote: Counting objects:  94% (572/608)\u001b[K\rremote: Counting objects:  95% (578/608)\u001b[K\rremote: Counting objects:  96% (584/608)\u001b[K\rremote: Counting objects:  97% (590/608)\u001b[K\rremote: Counting objects:  98% (596/608)\u001b[K\rremote: Counting objects:  99% (602/608)\u001b[K\rremote: Counting objects: 100% (608/608)\u001b[K\rremote: Counting objects: 100% (608/608), done.\u001b[K\r\nremote: Compressing objects:   0% (1/341)\u001b[K\rremote: Compressing objects:   1% (4/341)\u001b[K\rremote: Compressing objects:   2% (7/341)\u001b[K\rremote: Compressing objects:   3% (11/341)\u001b[K\rremote: Compressing objects:   4% (14/341)\u001b[K\rremote: Compressing objects:   5% (18/341)\u001b[K\rremote: Compressing objects:   6% (21/341)\u001b[K\rremote: Compressing objects:   7% (24/341)\u001b[K\rremote: Compressing objects:   8% (28/341)\u001b[K\rremote: Compressing objects:   9% (31/341)\u001b[K\r"
					},
					"metadata": {}
				},
				{
					"output_type": "execute_result",
					"execution_count": 7,
					"data": {
						"text/plain": "remote: Compressing objects:  10% (35/341)\u001b[K\rremote: Compressing objects:  11% (38/341)\u001b[K\rremote: Compressing objects:  12% (41/341)\u001b[K\rremote: Compressing objects:  13% (45/341)\u001b[K\rremote: Compressing objects:  14% (48/341)\u001b[K\rremote: Compressing objects:  15% (52/341)\u001b[K\rremote: Compressing objects:  16% (55/341)\u001b[K\rremote: Compressing objects:  17% (58/341)\u001b[K\rremote: Compressing objects:  18% (62/341)\u001b[K\rremote: Compressing objects:  19% (65/341)\u001b[K\rremote: Compressing objects:  20% (69/341)\u001b[K\rremote: Compressing objects:  21% (72/341)\u001b[K\rremote: Compressing objects:  22% (76/341)\u001b[K\rremote: Compressing objects:  23% (79/341)\u001b[K\rremote: Compressing objects:  24% (82/341)\u001b[K\rremote: Compressing objects:  25% (86/341)\u001b[K\rremote: Compressing objects:  26% (89/341)\u001b[K\rremote: Compressing objects:  27% (93/341)\u001b[K\rremote: Compressing objects:  28% (96/341)\u001b[K\rremote: Compressing objects:  29% (99/341)\u001b[K\rremote: Compressing objects:  30% (103/341)\u001b[K\rremote: Compressing objects:  31% (106/341)\u001b[K\rremote: Compressing objects:  32% (110/341)\u001b[K\rremote: Compressing objects:  33% (113/341)\u001b[K\rremote: Compressing objects:  34% (116/341)\u001b[K\rremote: Compressing objects:  35% (120/341)\u001b[K\rremote: Compressing objects:  36% (123/341)\u001b[K\rremote: Compressing objects:  37% (127/341)\u001b[K\rremote: Compressing objects:  38% (130/341)\u001b[K\rremote: Compressing objects:  39% (133/341)\u001b[K\rremote: Compressing objects:  40% (137/341)\u001b[K\rremote: Compressing objects:  41% (140/341)\u001b[K\rremote: Compressing objects:  42% (144/341)\u001b[K\rremote: Compressing objects:  43% (147/341)\u001b[K\rremote: Compressing objects:  44% (151/341)\u001b[K\rremote: Compressing objects:  45% (154/341)\u001b[K\rremote: Compressing objects:  46% (157/341)\u001b[K\rremote: Compressing objects:  47% (161/341)\u001b[K\rremote: Compressing objects:  48% (164/341)\u001b[K\rremote: Compressing objects:  49% (168/341)\u001b[K\rremote: Compressing objects:  50% (171/341)\u001b[K\rremote: Compressing objects:  51% (174/341)\u001b[K\rremote: Compressing objects:  52% (178/341)\u001b[K\rremote: Compressing objects:  53% (181/341)\u001b[K\rremote: Compressing objects:  54% (185/341)\u001b[K\rremote: Compressing objects:  55% (188/341)\u001b[K\rremote: Compressing objects:  56% (191/341)\u001b[K\rremote: Compressing objects:  57% (195/341)\u001b[K\rremote: Compressing objects:  58% (198/341)\u001b[K\rremote: Compressing objects:  59% (202/341)\u001b[K\rremote: Compressing objects:  60% (205/341)\u001b[K\rremote: Compressing objects:  61% (209/341)\u001b[K\rremote: Compressing objects:  62% (212/341)\u001b[K\rremote: Compressing objects:  63% (215/341)\u001b[K\rremote: Compressing objects:  64% (219/341)\u001b[K\rremote: Compressing objects:  65% (222/341)\u001b[K\rremote: Compressing objects:  66% (226/341)\u001b[K\rremote: Compressing objects:  67% (229/341)\u001b[K\rremote: Compressing objects:  68% (232/341)\u001b[K\rremote: Compressing objects:  69% (236/341)\u001b[K\rremote: Compressing objects:  70% (239/341)\u001b[K\rremote: Compressing objects:  71% (243/341)\u001b[K\rremote: Compressing objects:  72% (246/341)\u001b[K\rremote: Compressing objects:  73% (249/341)\u001b[K\rremote: Compressing objects:  74% (253/341)\u001b[K\rremote: Compressing objects:  75% (256/341)\u001b[K\rremote: Compressing objects:  76% (260/341)\u001b[K\rremote: Compressing objects:  77% (263/341)\u001b[K\rremote: Compressing objects:  78% (266/341)\u001b[K\rremote: Compressing objects:  79% (270/341)\u001b[K\rremote: Compressing objects:  80% (273/341)\u001b[K\rremote: Compressing objects:  81% (277/341)\u001b[K\rremote: Compressing objects:  82% (280/341)\u001b[K\rremote: Compressing objects:  83% (284/341)\u001b[K\rremote: Compressing objects:  84% (287/341)\u001b[K\rremote: Compressing objects:  85% (290/341)\u001b[K\rremote: Compressing objects:  86% (294/341)\u001b[K\rremote: Compressing objects:  87% (297/341)\u001b[K\rremote: Compressing objects:  88% (301/341)\u001b[K\rremote: Compressing objects:  89% (304/341)\u001b[K\rremote: Compressing objects:  90% (307/341)\u001b[K\rremote: Compressing objects:  91% (311/341)\u001b[K\rremote: Compressing objects:  92% (314/341)\u001b[K\rremote: Compressing objects:  93% (318/341)\u001b[K\rremote: Compressing objects:  94% (321/341)\u001b[K\rremote: Compressing objects:  95% (324/341)\u001b[K\rremote: Compressing objects:  96% (328/341)\u001b[K\rremote: Compressing objects:  97% (331/341)\u001b[K\rremote: Compressing objects:  98% (335/341)\u001b[K\rremote: Compressing objects:  99% (338/341)\u001b[K\rremote: Compressing objects: 100% (341/341)\u001b[K\rremote: Compressing objects: 100% (341/341), done.\u001b[K\r\nReceiving objects:   0% (1/13674)\rReceiving objects:   1% (137/13674)\rReceiving objects:   2% (274/13674)\rReceiving objects:   3% (411/13674)\rReceiving objects:   4% (547/13674)\rReceiving objects:   5% (684/13674)\rReceiving objects:   6% (821/13674)\r"
					},
					"metadata": {}
				},
				{
					"output_type": "execute_result",
					"execution_count": 7,
					"data": {
						"text/plain": "Receiving objects:   7% (958/13674)\rReceiving objects:   8% (1094/13674)\rReceiving objects:   9% (1231/13674)\rReceiving objects:  10% (1368/13674)\r"
					},
					"metadata": {}
				},
				{
					"output_type": "execute_result",
					"execution_count": 7,
					"data": {
						"text/plain": "Receiving objects:  11% (1505/13674), 31.37 MiB | 62.73 MiB/s\r"
					},
					"metadata": {}
				},
				{
					"output_type": "execute_result",
					"execution_count": 7,
					"data": {
						"text/plain": "Receiving objects:  11% (1562/13674), 31.37 MiB | 62.73 MiB/s\rReceiving objects:  12% (1641/13674), 58.63 MiB | 58.62 MiB/s\rReceiving objects:  13% (1778/13674), 58.63 MiB | 58.62 MiB/s\r"
					},
					"metadata": {}
				},
				{
					"output_type": "execute_result",
					"execution_count": 7,
					"data": {
						"text/plain": "Receiving objects:  14% (1915/13674), 58.63 MiB | 58.62 MiB/s\rReceiving objects:  15% (2052/13674), 58.63 MiB | 58.62 MiB/s\r"
					},
					"metadata": {}
				},
				{
					"output_type": "execute_result",
					"execution_count": 7,
					"data": {
						"text/plain": "Receiving objects:  16% (2188/13674), 58.63 MiB | 58.62 MiB/s\r"
					},
					"metadata": {}
				},
				{
					"output_type": "execute_result",
					"execution_count": 7,
					"data": {
						"text/plain": "Receiving objects:  17% (2325/13674), 83.99 MiB | 55.99 MiB/s\rReceiving objects:  18% (2462/13674), 83.99 MiB | 55.99 MiB/s\rReceiving objects:  19% (2599/13674), 83.99 MiB | 55.99 MiB/s\rReceiving objects:  20% (2735/13674), 83.99 MiB | 55.99 MiB/s\rReceiving objects:  21% (2872/13674), 83.99 MiB | 55.99 MiB/s\rReceiving objects:  22% (3009/13674), 83.99 MiB | 55.99 MiB/s\rReceiving objects:  23% (3146/13674), 83.99 MiB | 55.99 MiB/s\r"
					},
					"metadata": {}
				},
				{
					"output_type": "execute_result",
					"execution_count": 7,
					"data": {
						"text/plain": "Receiving objects:  24% (3282/13674), 83.99 MiB | 55.99 MiB/s\rReceiving objects:  25% (3419/13674), 83.99 MiB | 55.99 MiB/s\r"
					},
					"metadata": {}
				},
				{
					"output_type": "execute_result",
					"execution_count": 7,
					"data": {
						"text/plain": "Receiving objects:  26% (3556/13674), 83.99 MiB | 55.99 MiB/s\rReceiving objects:  27% (3692/13674), 83.99 MiB | 55.99 MiB/s\rReceiving objects:  28% (3829/13674), 83.99 MiB | 55.99 MiB/s\rReceiving objects:  29% (3966/13674), 83.99 MiB | 55.99 MiB/s\rReceiving objects:  30% (4103/13674), 83.99 MiB | 55.99 MiB/s\rReceiving objects:  31% (4239/13674), 83.99 MiB | 55.99 MiB/s\rReceiving objects:  32% (4376/13674), 83.99 MiB | 55.99 MiB/s\rReceiving objects:  33% (4513/13674), 83.99 MiB | 55.99 MiB/s\rReceiving objects:  34% (4650/13674), 83.99 MiB | 55.99 MiB/s\rReceiving objects:  35% (4786/13674), 83.99 MiB | 55.99 MiB/s\rReceiving objects:  36% (4923/13674), 83.99 MiB | 55.99 MiB/s\r"
					},
					"metadata": {}
				},
				{
					"output_type": "execute_result",
					"execution_count": 7,
					"data": {
						"text/plain": "Receiving objects:  36% (5008/13674), 120.05 MiB | 60.02 MiB/s\r"
					},
					"metadata": {}
				},
				{
					"output_type": "execute_result",
					"execution_count": 7,
					"data": {
						"text/plain": "Receiving objects:  37% (5060/13674), 120.05 MiB | 60.02 MiB/s\rReceiving objects:  38% (5197/13674), 120.05 MiB | 60.02 MiB/s\rReceiving objects:  39% (5333/13674), 120.05 MiB | 60.02 MiB/s\rReceiving objects:  40% (5470/13674), 120.05 MiB | 60.02 MiB/s\rReceiving objects:  41% (5607/13674), 120.05 MiB | 60.02 MiB/s\rReceiving objects:  42% (5744/13674), 120.05 MiB | 60.02 MiB/s\rReceiving objects:  43% (5880/13674), 120.05 MiB | 60.02 MiB/s\rReceiving objects:  44% (6017/13674), 120.05 MiB | 60.02 MiB/s\rReceiving objects:  45% (6154/13674), 120.05 MiB | 60.02 MiB/s\rReceiving objects:  46% (6291/13674), 120.05 MiB | 60.02 MiB/s\rReceiving objects:  47% (6427/13674), 120.05 MiB | 60.02 MiB/s\rReceiving objects:  48% (6564/13674), 120.05 MiB | 60.02 MiB/s\r"
					},
					"metadata": {}
				},
				{
					"output_type": "execute_result",
					"execution_count": 7,
					"data": {
						"text/plain": "Receiving objects:  49% (6701/13674), 120.05 MiB | 60.02 MiB/s\rReceiving objects:  50% (6837/13674), 120.05 MiB | 60.02 MiB/s\rReceiving objects:  51% (6974/13674), 120.05 MiB | 60.02 MiB/s\rReceiving objects:  52% (7111/13674), 120.05 MiB | 60.02 MiB/s\rReceiving objects:  53% (7248/13674), 120.05 MiB | 60.02 MiB/s\rReceiving objects:  54% (7384/13674), 120.05 MiB | 60.02 MiB/s\rReceiving objects:  55% (7521/13674), 120.05 MiB | 60.02 MiB/s\rReceiving objects:  56% (7658/13674), 120.05 MiB | 60.02 MiB/s\rReceiving objects:  57% (7795/13674), 120.05 MiB | 60.02 MiB/s\rReceiving objects:  58% (7931/13674), 120.05 MiB | 60.02 MiB/s\r"
					},
					"metadata": {}
				},
				{
					"output_type": "execute_result",
					"execution_count": 7,
					"data": {
						"text/plain": "Receiving objects:  59% (8068/13674), 157.68 MiB | 63.07 MiB/s\rReceiving objects:  60% (8205/13674), 157.68 MiB | 63.07 MiB/s\r"
					},
					"metadata": {}
				},
				{
					"output_type": "execute_result",
					"execution_count": 7,
					"data": {
						"text/plain": "Receiving objects:  61% (8342/13674), 157.68 MiB | 63.07 MiB/s\rReceiving objects:  62% (8478/13674), 157.68 MiB | 63.07 MiB/s\rReceiving objects:  63% (8615/13674), 157.68 MiB | 63.07 MiB/s\rReceiving objects:  64% (8752/13674), 157.68 MiB | 63.07 MiB/s\rReceiving objects:  65% (8889/13674), 157.68 MiB | 63.07 MiB/s\rReceiving objects:  66% (9025/13674), 157.68 MiB | 63.07 MiB/s\rReceiving objects:  67% (9162/13674), 157.68 MiB | 63.07 MiB/s\r"
					},
					"metadata": {}
				},
				{
					"output_type": "execute_result",
					"execution_count": 7,
					"data": {
						"text/plain": "Receiving objects:  68% (9299/13674), 157.68 MiB | 63.07 MiB/s\rReceiving objects:  69% (9436/13674), 157.68 MiB | 63.07 MiB/s\rReceiving objects:  70% (9572/13674), 157.68 MiB | 63.07 MiB/s\r"
					},
					"metadata": {}
				},
				{
					"output_type": "execute_result",
					"execution_count": 7,
					"data": {
						"text/plain": "Receiving objects:  71% (9709/13674), 157.68 MiB | 63.07 MiB/s\rReceiving objects:  72% (9846/13674), 157.68 MiB | 63.07 MiB/s\rReceiving objects:  73% (9983/13674), 157.68 MiB | 63.07 MiB/s\rReceiving objects:  74% (10119/13674), 157.68 MiB | 63.07 MiB/s\rReceiving objects:  75% (10256/13674), 157.68 MiB | 63.07 MiB/s\rReceiving objects:  76% (10393/13674), 157.68 MiB | 63.07 MiB/s\rReceiving objects:  77% (10529/13674), 157.68 MiB | 63.07 MiB/s\r"
					},
					"metadata": {}
				},
				{
					"output_type": "execute_result",
					"execution_count": 7,
					"data": {
						"text/plain": "Receiving objects:  78% (10666/13674), 157.68 MiB | 63.07 MiB/s\rReceiving objects:  79% (10803/13674), 157.68 MiB | 63.07 MiB/s\rReceiving objects:  80% (10940/13674), 157.68 MiB | 63.07 MiB/s\r"
					},
					"metadata": {}
				},
				{
					"output_type": "execute_result",
					"execution_count": 7,
					"data": {
						"text/plain": "Receiving objects:  80% (11024/13674), 187.23 MiB | 62.41 MiB/s\r"
					},
					"metadata": {}
				},
				{
					"output_type": "execute_result",
					"execution_count": 7,
					"data": {
						"text/plain": "Receiving objects:  81% (11076/13674), 216.86 MiB | 61.96 MiB/s\rReceiving objects:  82% (11213/13674), 216.86 MiB | 61.96 MiB/s\rReceiving objects:  83% (11350/13674), 216.86 MiB | 61.96 MiB/s\rReceiving objects:  84% (11487/13674), 216.86 MiB | 61.96 MiB/s\rReceiving objects:  85% (11623/13674), 216.86 MiB | 61.96 MiB/s\rReceiving objects:  86% (11760/13674), 216.86 MiB | 61.96 MiB/s\rReceiving objects:  87% (11897/13674), 216.86 MiB | 61.96 MiB/s\r"
					},
					"metadata": {}
				},
				{
					"output_type": "execute_result",
					"execution_count": 7,
					"data": {
						"text/plain": "Receiving objects:  88% (12034/13674), 216.86 MiB | 61.96 MiB/s\rReceiving objects:  89% (12170/13674), 216.86 MiB | 61.96 MiB/s\rReceiving objects:  90% (12307/13674), 216.86 MiB | 61.96 MiB/s\rReceiving objects:  91% (12444/13674), 216.86 MiB | 61.96 MiB/s\rReceiving objects:  92% (12581/13674), 216.86 MiB | 61.96 MiB/s\rReceiving objects:  93% (12717/13674), 216.86 MiB | 61.96 MiB/s\rReceiving objects:  94% (12854/13674), 216.86 MiB | 61.96 MiB/s\r"
					},
					"metadata": {}
				},
				{
					"output_type": "execute_result",
					"execution_count": 7,
					"data": {
						"text/plain": "Receiving objects:  95% (12991/13674), 216.86 MiB | 61.96 MiB/s\r"
					},
					"metadata": {}
				},
				{
					"output_type": "execute_result",
					"execution_count": 7,
					"data": {
						"text/plain": "Receiving objects:  96% (13128/13674), 216.86 MiB | 61.96 MiB/s\rReceiving objects:  97% (13264/13674), 216.86 MiB | 61.96 MiB/s\rReceiving objects:  98% (13401/13674), 216.86 MiB | 61.96 MiB/s\rReceiving objects:  99% (13538/13674), 216.86 MiB | 61.96 MiB/s\rremote: Total 13674 (delta 340), reused 467 (delta 248), pack-reused 13066\u001b[K\r\nReceiving objects: 100% (13674/13674), 216.86 MiB | 61.96 MiB/s\rReceiving objects: 100% (13674/13674), 242.65 MiB | 62.24 MiB/s, done.\r\nResolving deltas:   0% (0/9159)\rResolving deltas:   1% (92/9159)\rResolving deltas:   2% (184/9159)\rResolving deltas:   3% (275/9159)\rResolving deltas:   4% (367/9159)\rResolving deltas:   5% (459/9159)\rResolving deltas:   6% (550/9159)\rResolving deltas:   7% (642/9159)\rResolving deltas:   8% (733/9159)\rResolving deltas:   9% (825/9159)\rResolving deltas:  10% (916/9159)\rResolving deltas:  11% (1008/9159)\rResolving deltas:  12% (1100/9159)\rResolving deltas:  13% (1191/9159)\rResolving deltas:  14% (1283/9159)\rResolving deltas:  15% (1374/9159)\rResolving deltas:  16% (1466/9159)\rResolving deltas:  17% (1558/9159)\rResolving deltas:  18% (1650/9159)\rResolving deltas:  19% (1741/9159)\rResolving deltas:  20% (1833/9159)\rResolving deltas:  21% (1925/9159)\rResolving deltas:  22% (2015/9159)\rResolving deltas:  23% (2107/9159)\rResolving deltas:  24% (2199/9159)\rResolving deltas:  25% (2290/9159)\rResolving deltas:  26% (2382/9159)\rResolving deltas:  27% (2473/9159)\rResolving deltas:  28% (2566/9159)\rResolving deltas:  29% (2657/9159)\rResolving deltas:  30% (2749/9159)\rResolving deltas:  31% (2840/9159)\rResolving deltas:  32% (2931/9159)\rResolving deltas:  33% (3023/9159)\rResolving deltas:  34% (3115/9159)\rResolving deltas:  35% (3206/9159)\rResolving deltas:  36% (3298/9159)\rResolving deltas:  37% (3389/9159)\rResolving deltas:  38% (3481/9159)\rResolving deltas:  39% (3573/9159)\rResolving deltas:  40% (3664/9159)\rResolving deltas:  41% (3756/9159)\rResolving deltas:  42% (3847/9159)\rResolving deltas:  43% (3939/9159)\rResolving deltas:  44% (4030/9159)\rResolving deltas:  45% (4122/9159)\rResolving deltas:  46% (4214/9159)\rResolving deltas:  47% (4305/9159)\rResolving deltas:  48% (4397/9159)\rResolving deltas:  49% (4488/9159)\rResolving deltas:  50% (4580/9159)\rResolving deltas:  51% (4672/9159)\rResolving deltas:  52% (4763/9159)\rResolving deltas:  53% (4855/9159)\rResolving deltas:  54% (4946/9159)\rResolving deltas:  55% (5038/9159)\rResolving deltas:  56% (5130/9159)\rResolving deltas:  57% (5221/9159)\rResolving deltas:  58% (5313/9159)\rResolving deltas:  59% (5404/9159)\rResolving deltas:  60% (5496/9159)\rResolving deltas:  61% (5587/9159)\rResolving deltas:  62% (5679/9159)\rResolving deltas:  63% (5771/9159)\rResolving deltas:  64% (5863/9159)\r"
					},
					"metadata": {}
				},
				{
					"output_type": "execute_result",
					"execution_count": 7,
					"data": {
						"text/plain": "Resolving deltas:  65% (5954/9159)\rResolving deltas:  66% (6045/9159)\rResolving deltas:  67% (6137/9159)\rResolving deltas:  68% (6229/9159)\rResolving deltas:  69% (6320/9159)\rResolving deltas:  70% (6412/9159)\rResolving deltas:  71% (6503/9159)\rResolving deltas:  72% (6595/9159)\rResolving deltas:  73% (6687/9159)\rResolving deltas:  74% (6778/9159)\rResolving deltas:  75% (6870/9159)\rResolving deltas:  76% (6961/9159)\rResolving deltas:  77% (7053/9159)\rResolving deltas:  78% (7145/9159)\rResolving deltas:  79% (7236/9159)\rResolving deltas:  80% (7328/9159)\rResolving deltas:  81% (7419/9159)\rResolving deltas:  82% (7511/9159)\rResolving deltas:  83% (7602/9159)\rResolving deltas:  84% (7694/9159)\rResolving deltas:  85% (7786/9159)\rResolving deltas:  86% (7877/9159)\rResolving deltas:  87% (7969/9159)\rResolving deltas:  88% (8060/9159)\rResolving deltas:  89% (8152/9159)\rResolving deltas:  90% (8244/9159)\rResolving deltas:  91% (8335/9159)\rResolving deltas:  92% (8427/9159)\rResolving deltas:  93% (8518/9159)\rResolving deltas:  94% (8610/9159)\rResolving deltas:  95% (8702/9159)\rResolving deltas:  96% (8793/9159)\rResolving deltas:  97% (8885/9159)\rResolving deltas:  98% (8976/9159)\rResolving deltas:  99% (9068/9159)\r"
					},
					"metadata": {}
				},
				{
					"output_type": "execute_result",
					"execution_count": 7,
					"data": {
						"text/plain": "Resolving deltas: 100% (9159/9159)\rResolving deltas: 100% (9159/9159), done.\r\n"
					},
					"metadata": {}
				},
				{
					"output_type": "execute_result",
					"execution_count": 7,
					"data": {
						"text/plain": "Updating files:  57% (419/725)\rUpdating files:  58% (421/725)\rUpdating files:  59% (428/725)\rUpdating files:  60% (435/725)\rUpdating files:  61% (443/725)\rUpdating files:  62% (450/725)\rUpdating files:  63% (457/725)\rUpdating files:  64% (464/725)\rUpdating files:  65% (472/725)\rUpdating files:  66% (479/725)\rUpdating files:  67% (486/725)\rUpdating files:  68% (493/725)\rUpdating files:  69% (501/725)\rUpdating files:  70% (508/725)\rUpdating files:  71% (515/725)\rUpdating files:  72% (522/725)\r"
					},
					"metadata": {}
				},
				{
					"output_type": "execute_result",
					"execution_count": 7,
					"data": {
						"text/plain": "Updating files:  73% (530/725)\rUpdating files:  74% (537/725)\rUpdating files:  75% (544/725)\rUpdating files:  76% (551/725)\rUpdating files:  77% (559/725)\rUpdating files:  78% (566/725)\rUpdating files:  79% (573/725)\r"
					},
					"metadata": {}
				},
				{
					"output_type": "execute_result",
					"execution_count": 7,
					"data": {
						"text/plain": "Updating files:  80% (580/725)\r"
					},
					"metadata": {}
				},
				{
					"output_type": "execute_result",
					"execution_count": 7,
					"data": {
						"text/plain": "Updating files:  81% (588/725)\rUpdating files:  82% (595/725)\r"
					},
					"metadata": {}
				},
				{
					"output_type": "execute_result",
					"execution_count": 7,
					"data": {
						"text/plain": "Updating files:  83% (602/725)\rUpdating files:  84% (609/725)\rUpdating files:  85% (617/725)\rUpdating files:  86% (624/725)\rUpdating files:  87% (631/725)\rUpdating files:  88% (638/725)\r"
					},
					"metadata": {}
				},
				{
					"output_type": "execute_result",
					"execution_count": 7,
					"data": {
						"text/plain": "Updating files:  89% (646/725)\rUpdating files:  90% (653/725)\rUpdating files:  91% (660/725)\rUpdating files:  92% (667/725)\rUpdating files:  93% (675/725)\rUpdating files:  94% (682/725)\r"
					},
					"metadata": {}
				},
				{
					"output_type": "execute_result",
					"execution_count": 7,
					"data": {
						"text/plain": "Updating files:  95% (689/725)\rUpdating files:  96% (696/725)\rUpdating files:  97% (704/725)\r"
					},
					"metadata": {}
				},
				{
					"output_type": "execute_result",
					"execution_count": 7,
					"data": {
						"text/plain": "Updating files:  98% (711/725)\rUpdating files:  99% (718/725)\rUpdating files: 100% (725/725)\rUpdating files: 100% (725/725), done.\r\n"
					},
					"metadata": {}
				}
			],
			"execution_count": 7
		},
		{
			"id": "639c7dae9d435360e13757db",
			"cell_type": "code",
			"source": "!ls datarobot-user-models/public_dropin_environments/python3_pytorch/",
			"metadata": {
				"name": "check files we need",
				"collapsed": false,
				"scrolled": false,
				"datarobot": {
					"language": "python"
				},
				"hide_code": false,
				"hide_results": false,
				"disable_run": false,
				"chart_settings": null,
				"dataframe_view_options": null
			},
			"outputs": [
				{
					"output_type": "execute_result",
					"execution_count": 8,
					"data": {
						"text/plain": "Dockerfile  __init__.py\t\t env_info.json\trequirements.txt\r\nREADME.md   dr_requirements.txt  fit.sh\t\tstart_server.sh\r\n"
					},
					"metadata": {}
				}
			],
			"execution_count": 8
		},
		{
			"id": "639c7dae9d435360e13757df",
			"cell_type": "code",
			"source": "%%writefile datarobot-user-models/public_dropin_environments/python3_pytorch/requirements.txt\nsacremoses==0.0.53\nsentencepiece==0.1.97\ntransformers==4.25.1\nprotobuf~=3.20\ntorch==1.13.0\nnumpy==1.22.0\npandas==1.3.0\nscikit-learn==0.24.2",
			"metadata": {
				"name": "update requirements to have necessary packages",
				"collapsed": false,
				"scrolled": false,
				"datarobot": {
					"language": "python"
				},
				"hide_code": false,
				"hide_results": false,
				"disable_run": false,
				"chart_settings": null,
				"dataframe_view_options": null
			},
			"outputs": [
				{
					"output_type": "execute_result",
					"execution_count": 9,
					"data": {
						"text/plain": "Overwriting datarobot-user-models/public_dropin_environments/python3_pytorch/requirements.txt\n"
					},
					"metadata": {}
				}
			],
			"execution_count": 9
		},
		{
			"id": "639c7dae9d435360e13757e1",
			"cell_type": "code",
			"source": "import datarobot as dr\nfrom datarobot.client import Client\n\n# Connect to DataRobot\nClient()\n",
			"metadata": {
				"name": "Connect to DataRobot",
				"collapsed": false,
				"scrolled": false,
				"datarobot": {
					"language": "python"
				},
				"hide_code": false,
				"hide_results": false,
				"disable_run": false,
				"chart_settings": null,
				"dataframe_view_options": null
			},
			"outputs": [
				{
					"output_type": "execute_result",
					"execution_count": 10,
					"data": {
						"text/plain": "<datarobot.rest.RESTClientObject at 0x7f782428df10>"
					},
					"metadata": {}
				}
			],
			"execution_count": 10
		},
		{
			"id": "639c7dae9d435360e13757e0",
			"cell_type": "code",
			"source": "environment_folder = \"./datarobot-user-models/public_dropin_environments/python3_pytorch\"\n## Create the environment, which will eventually contain versions  ##\nexecution_environment = dr.ExecutionEnvironment.create(\n    name=\"Python 3 HuggingFace1\",\n    description=\"This environment contains hf library.\",\n)\n\n## Create the environment version ##\nenvironment_version = dr.ExecutionEnvironmentVersion.create(\n    execution_environment.id,\n    environment_folder,\n    max_wait=3600,  # 1 hour timeout\n)",
			"metadata": {
				"name": "create execution environment for custom model",
				"collapsed": false,
				"scrolled": false,
				"datarobot": {
					"language": "python"
				},
				"hide_code": false,
				"hide_results": false,
				"disable_run": false,
				"chart_settings": null,
				"dataframe_view_options": null
			},
			"outputs": [
				{
					"output_type": "execute_result",
					"execution_count": 24,
					"data": {
						"text/plain": "[ExecutionEnvironment('[DataRobot] Python 3.9 ONNX Drop-In'),\n ExecutionEnvironment('Python 3 YOLOv5'),\n ExecutionEnvironment('[DataRobot] Julia Drop-In'),\n ExecutionEnvironment('[DataRobot] Legacy Code Environment'),\n ExecutionEnvironment('[DEPRECATED] H2O Drop-In'),\n ExecutionEnvironment('[DataRobot] Python 3.9 PMML Drop-In'),\n ExecutionEnvironment('[DataRobot] R 4.2.1 Drop-In'),\n ExecutionEnvironment('[DataRobot] Python 3.9 PyTorch Drop-In'),\n ExecutionEnvironment('[DataRobot] Java 11 Drop-In (DR Codegen, H2O)'),\n ExecutionEnvironment('[DataRobot] Python 3.9 Scikit-Learn Drop-In'),\n ExecutionEnvironment('[DataRobot] Python 3.9 XGBoost Drop-In'),\n ExecutionEnvironment('[DataRobot] Python 3.9 Keras Drop-In')]"
					},
					"metadata": {}
				}
			],
			"execution_count": null
		},
		{
			"id": "639c7dae9d435360e13757e3",
			"cell_type": "code",
			"source": "def save_model(model_name):\n    folder_name = model_name.split(\"/\")[1]\n    os.mkdir(f\"./{folder_name}\")\n    os.mkdir(f\"./{folder_name}/model\")\n    os.mkdir(f\"./{folder_name}/tokenizer\")\n    model = AutoModelForSeq2SeqLM.from_pretrained(model_name)\n    tokenizer = AutoTokenizer.from_pretrained(model_name)\n    model.save_pretrained(f\"./{folder_name}/model\")\n    tokenizer.save_pretrained(f\"./{folder_name}/tokenizer\")\n    return folder_name\nfolder_name = save_model(\"JulesBelveze/t5-small-headline-generator\")",
			"metadata": {
				"name": "save model to local",
				"collapsed": false,
				"scrolled": false,
				"datarobot": {
					"language": "python"
				},
				"hide_code": false,
				"hide_results": false,
				"disable_run": false,
				"chart_settings": null,
				"dataframe_view_options": null
			},
			"outputs": [],
			"execution_count": null
		},
		{
			"id": "639c7dae9d435360e13757e4",
			"cell_type": "code",
			"source": "!ls -l {folder_name}",
			"metadata": {
				"name": "double check weight files are saved",
				"collapsed": false,
				"scrolled": false,
				"datarobot": {
					"language": "python"
				},
				"hide_code": false,
				"hide_results": false,
				"disable_run": false,
				"chart_settings": null,
				"dataframe_view_options": null
			},
			"outputs": [
				{
					"output_type": "execute_result",
					"execution_count": 14,
					"data": {
						"text/plain": "total 0\r\ndrwxr-xr-x 2 nbx nbx  50 Dec 16 14:37 model\r\ndrwxr-xr-x 2 nbx nbx 108 Dec 16 14:37 tokenizer\r\n"
					},
					"metadata": {}
				}
			],
			"execution_count": 14
		},
		{
			"id": "639c7dae9d435360e13757e5",
			"cell_type": "code",
			"source": "%%writefile {folder_name}/custom.py\nimport time\nimport json\nfrom transformers import pipeline, AutoTokenizer, AutoModelForSeq2SeqLM\n\n\ndef load_model(dummy):\n\n    tokenizer1 = AutoTokenizer.from_pretrained(\"./tokenizer\")\n    model1 = AutoModelForSeq2SeqLM.from_pretrained(\"./model\")\n    seq2seq1 = pipeline(\"summarization\", model=model1, tokenizer=tokenizer1)\n\n    return seq2seq1\n\n\ndef score_unstructured(model, data, query, **kwargs):\n    # Handle incoming data\n    if not data:\n        return data\n    if isinstance(data, bytes):\n        data = data.decode(\"utf8\")\n\n    time_before_model = time.perf_counter()\n\n    data = [s for s in data.splitlines() if s]\n    prediction = model(data)\n\n    time_after_model = time.perf_counter()\n\n    # Structure json output\n    output_dict = {\n        \"prediction\": prediction,\n        \"model_run_time_seconds\": time_after_model - time_before_model,\n    }\n\n    # Serialized output\n    serialized_output = json.dumps(output_dict)\n    return serialized_output\n\n\nif __name__ == \"__main__\":\n    test = \"\"\"Videos that say approved vaccines are dangerous and cause autism, cancer or infertility are among those that will be taken down, the company said.  The policy includes the termination of accounts of anti-vaccine influencers.  Tech giants have been criticised for not doing more to counter false health information on their sites.  In July, US President Joe Biden said social media platforms were largely responsible for people's scepticism in getting vaccinated by spreading misinformation, and appealed for them to address the issue.  YouTube, which is owned by Google, said 130,000 videos were removed from its platform since last year, when it implemented a ban on content spreading misinformation about Covid vaccines.  In a blog post, the company said it had seen false claims about Covid jabs \"spill over into misinformation about vaccines in general\". The new policy covers long-approved vaccines, such as those against measles or hepatitis B.  \"We're expanding our medical misinformation policies on YouTube with new guidelines on currently administered vaccines that are approved and confirmed to be safe and effective by local health authorities and the WHO,\" the post said, referring to the World Health Organization.\"\"\"\n    model = load_model(None)\n    preds = score_unstructured(model=model, data=test, query=None)\n    print(preds)\n",
			"metadata": {
				"name": "create custom.py",
				"collapsed": false,
				"scrolled": false,
				"datarobot": {
					"language": "python"
				},
				"hide_code": false,
				"hide_results": false,
				"disable_run": false,
				"chart_settings": null,
				"dataframe_view_options": null
			},
			"outputs": [
				{
					"output_type": "execute_result",
					"execution_count": 15,
					"data": {
						"text/plain": "Writing t5-small-headline-generator/custom.py\n"
					},
					"metadata": {}
				}
			],
			"execution_count": 15
		},
		{
			"id": "639c7dae9d435360e13757e8",
			"cell_type": "code",
			"source": "%cd {folder_name}",
			"metadata": {
				"collapsed": false,
				"scrolled": false,
				"datarobot": {
					"language": "python"
				},
				"hide_code": false,
				"hide_results": false,
				"disable_run": false,
				"chart_settings": null,
				"dataframe_view_options": null
			},
			"outputs": [
				{
					"output_type": "execute_result",
					"execution_count": 16,
					"data": {
						"text/plain": "/nbx/t5-small-headline-generator\n"
					},
					"metadata": {}
				}
			],
			"execution_count": 16
		},
		{
			"id": "639c7dae9d435360e13757e6",
			"cell_type": "code",
			"source": "!python custom.py",
			"metadata": {
				"name": "double check the file is working (should use drum instead)",
				"collapsed": false,
				"scrolled": false,
				"datarobot": {
					"language": "python"
				},
				"hide_code": false,
				"hide_results": false,
				"disable_run": false,
				"chart_settings": null,
				"dataframe_view_options": null
			},
			"outputs": [
				{
					"output_type": "execute_result",
					"execution_count": 17,
					"data": {
						"text/plain": "{\"prediction\": [{\"summary_text\": \"YouTube says it's seen false claims about Covid jabs \\\"spill over into misinformation\\\" 'We're expanding our medical misinformation policies on YouTube,' it says\"}], \"model_run_time_seconds\": 0.6249331739963964}\r\n"
					},
					"metadata": {}
				}
			],
			"execution_count": 17
		},
		{
			"id": "639c7dae9d435360e13757e9",
			"cell_type": "code",
			"source": "%cd ..",
			"metadata": {
				"collapsed": false,
				"scrolled": false,
				"datarobot": {
					"language": "python"
				},
				"hide_code": false,
				"hide_results": false,
				"disable_run": false,
				"chart_settings": null,
				"dataframe_view_options": null
			},
			"outputs": [
				{
					"output_type": "execute_result",
					"execution_count": 18,
					"data": {
						"text/plain": "/nbx\n"
					},
					"metadata": {}
				}
			],
			"execution_count": 18
		},
		{
			"id": "639c7dae9d435360e13757ea",
			"cell_type": "code",
			"source": "custom_model_folder = f\"/nbx/{folder_name}\"\n## Create the custom model ##\ncustom_model = dr.CustomInferenceModel.create(\n    name=folder_name,\n    target_type=dr.TARGET_TYPE.UNSTRUCTURED,\n    language='python',\n    maximum_memory=4294967296\n)\n\n## Create the custom model version ##\nmodel_version = dr.CustomModelVersion.create_clean(\n    custom_model_id=custom_model.id,\n    folder_path=custom_model_folder,\n    base_environment_id=execution_environment.id\n)",
			"metadata": {
				"name": "create custom model",
				"collapsed": false,
				"scrolled": false,
				"datarobot": {
					"language": "python"
				},
				"hide_code": false,
				"hide_results": false,
				"disable_run": false,
				"chart_settings": null,
				"dataframe_view_options": null
			},
			"outputs": [],
			"execution_count": null
		},
		{
			"id": "639c7dae9d435360e13757ec",
			"cell_type": "code",
			"source": "custom_model_label = folder_name\nprediction_server = dr.PredictionServer.list()[0]\ndeployment = dr.Deployment.create_from_custom_model_version(\n    model_version.id,\n    label=custom_model_label,\n    default_prediction_server_id=prediction_server.id,\n    max_wait=3600,  # 1 hour timeout\n)",
			"metadata": {
				"name": "deploy custom model",
				"collapsed": false,
				"scrolled": false,
				"datarobot": {
					"language": "python"
				},
				"hide_code": false,
				"hide_results": false,
				"disable_run": false,
				"chart_settings": null,
				"dataframe_view_options": null
			},
			"outputs": [
				{
					"output_type": "execute_result",
					"execution_count": 56,
					"data": {
						"text/plain": "[PredictionServer(https://mlops.dynamic.orm.datarobot.com),\n PredictionServer(https://datarobot-cfds.dynamic.orm.datarobot.com),\n PredictionServer(https://cfds-ccm-prod.orm.datarobot.com)]"
					},
					"metadata": {}
				}
			],
			"execution_count": null
		},
		{
			"id": "639c7dae9d435360e13757ed",
			"cell_type": "code",
			"source": "# Make predictions on the custom model deployment\ntest = \"\"\"Videos that say approved vaccines are dangerous and cause autism, cancer or infertility are among those that will be taken down, the company said.  \nThe policy includes the termination of accounts of anti-vaccine influencers.  Tech giants have been criticised for not doing more to counter false health information on their sites.  In July, US President Joe Biden said social media platforms were largely responsible for people's scepticism in getting vaccinated by spreading misinformation, and appealed for them to address the issue.  YouTube, which is owned by Google, said 130,000 videos were removed from its platform since last year, when it implemented a ban on content spreading misinformation about Covid vaccines.  In a blog post, the company said it had seen false claims about Covid jabs \"spill over into misinformation about vaccines in general\". The new policy covers long-approved vaccines, such as those against measles or hepatitis B.  \"We're expanding our medical misinformation policies on YouTube with new guidelines on currently administered vaccines that are approved and confirmed to be safe and effective by local health authorities and the WHO,\" the post said, referring to the World Health Organization.\"\"\"\nurl = '{}/predApi/v1.0/deployments/{}/predictionsUnstructured'.format(prediction_server.url, deployment.id)\nheaders = dr.client.get_client().headers\nheaders['datarobot-key'] = '544ec55f-61bf-f6ee-0caf-15c7f919a45d'\nheaders['Content-Type'] = 'text/plain;UTF-8'\n\nresponse = requests.post(url, headers=headers, data=test)\n\npredictions = response.json()\nprint(predictions)",
			"metadata": {
				"name": "test custom model (replace datarobot-key with the one from deployed model)",
				"collapsed": false,
				"scrolled": false,
				"datarobot": {
					"language": "python"
				},
				"hide_code": false,
				"hide_results": false,
				"disable_run": false,
				"chart_settings": null,
				"dataframe_view_options": null
			},
			"outputs": [
				{
					"output_type": "execute_result",
					"execution_count": 21,
					"data": {
						"text/plain": "{'prediction': [{'summary_text': 'The company says approved vaccines are dangerous and cause autism, cancer or infertility, according to a video released by the company .'}, {'summary_text': 'YouTube says it saw false claims about Covid jabs \"spill over into misinformation\" \\'We\\'re expanding our medical misinformation policies on YouTube,\\' blog post says'}], 'model_run_time_seconds': 4.530242481967434}\n"
					},
					"metadata": {}
				}
			],
			"execution_count": 21
		},
		{
			"id": "639c85971be43a7d3a5b725f",
			"cell_type": "code",
			"source": "",
			"metadata": {
				"collapsed": false,
				"scrolled": false,
				"datarobot": {
					"language": "python"
				},
				"hide_code": false,
				"hide_results": false,
				"disable_run": false,
				"chart_settings": null,
				"dataframe_view_options": null
			},
			"outputs": [],
			"execution_count": null
		}
	],
	"metadata": {
		"kernelspec": {
			"name": "python",
			"language": "python",
			"display_name": "Python 3.9.13"
		},
		"language_info": {
			"name": "python",
			"version": "3.9.13"
		}
	},
	"nbformat": 4,
	"nbformat_minor": 5
}